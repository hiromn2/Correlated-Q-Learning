{
 "cells": [
  {
   "cell_type": "code",
   "execution_count": 340,
   "id": "49d75a9f-56df-40d5-9b12-fdd27a149c73",
   "metadata": {},
   "outputs": [],
   "source": [
    "import numpy as np\n",
    "import matplotlib.pyplot as plt\n",
    "import seaborn as sns\n",
    "import random"
   ]
  },
  {
   "cell_type": "code",
   "execution_count": 342,
   "id": "af7559cc-58ec-4d86-b950-ec33b8f01db4",
   "metadata": {},
   "outputs": [
    {
     "data": {
      "text/plain": [
       "'\\nThings to add:\\n- plot on sequence of mixed strategy, to see if converge\\n'"
      ]
     },
     "execution_count": 342,
     "metadata": {},
     "output_type": "execute_result"
    }
   ],
   "source": [
    "\"\"\"\n",
    "Things to add:\n",
    "- plot on sequence of mixed strategy, to see if converge\n",
    "\"\"\""
   ]
  },
  {
   "cell_type": "code",
   "execution_count": 344,
   "id": "b15d119c-c4f8-4ec6-896c-c84216361ae3",
   "metadata": {},
   "outputs": [],
   "source": [
    "def q_learning_2x2_game_with_plot(payoffs, T, alpha, beta0, k):\n",
    "    \"\"\"\n",
    "    Q-learning algorithm for a finite simultaneous move game (2x2 example) with a plot of the sequence of play.\n",
    "\n",
    "    Parameters:\n",
    "        payoffs (list): A 2x2x2 list representing the payoff matrix.\n",
    "                        payoffs[i][a_i][a_-i] gives the payoff for player i\n",
    "                        when they choose action a_i and the opponent chooses action a_-i.\n",
    "        T (int): Number of iterations.\n",
    "        alpha (float): Q-value update parameter.\n",
    "        beta (float): Softmax parameter for strategy computation.\n",
    "\n",
    "    Returns:\n",
    "        dict: A dictionary containing:\n",
    "              - Last iterate mixed strategies\n",
    "              - Average mixed strategies\n",
    "              - Frequency of play\n",
    "              - Action history (sequence of actions chosen)\n",
    "    \"\"\"\n",
    "    num_players = 2\n",
    "    num_actions = 2\n",
    "\n",
    "    # Initialize Q-values for both players\n",
    "    Q = [np.zeros(num_actions) for _ in range(num_players)]\n",
    "\n",
    "    # Track mixed strategies, action frequencies, and actions over time\n",
    "    strategies = []\n",
    "    action_counts = [np.zeros(num_actions) for _ in range(num_players)]\n",
    "    action_history = [[] for _ in range(num_players)]\n",
    "\n",
    "    for t in range(1, T + 1):\n",
    "        mixed_strategies = []\n",
    "        beta = beta0 + k*t\n",
    "        \n",
    "        # Compute mixed strategies using the softmax function \n",
    "        for i in range(num_players):\n",
    "            mixed_strategy = np.exp(beta * Q[i]) / np.sum(np.exp(beta * Q[i]))\n",
    "            mixed_strategies.append(mixed_strategy)\n",
    "        \n",
    "        strategies.append(mixed_strategies)\n",
    "\n",
    "        # Sample actions based on mixed strategies \n",
    "        actions = [np.random.choice(num_actions, p=mixed_strategies[i]) for i in range(num_players)]\n",
    "\n",
    "        # Record actions\n",
    "        for i in range(num_players):\n",
    "            action_history[i].append(actions[i])\n",
    "\n",
    "        # Update action counts\n",
    "        for i in range(num_players):\n",
    "            action_counts[i][actions[i]] += 1\n",
    "\n",
    "        # Compute payoffs for the current actions\n",
    "        rewards = [payoffs[i][actions[i]][actions[1 - i]] for i in range(num_players)]\n",
    "#        rewards_counterf = [payoffs[i][1-actions[i]][actions[1-i]] for i in range(num_players)]\n",
    "\n",
    "        # Update Q-values\n",
    "        for i in range(num_players):\n",
    "            Q[i][actions[i]] = (1-alpha) * Q[i][actions[i]] + rewards[i]\n",
    "#            Q[i][1-actions[i]] = (1-alpha) * Q[i][1-actions[i]] + rewards_counterf[i]\n",
    "\n",
    "    # Compute average mixed strategies and action frequencies\n",
    "    avg_mixed_strategies = np.mean(strategies, axis=0)\n",
    "    frequencies = [counts / T for counts in action_counts]\n",
    "\n",
    "    return {\n",
    "        \"last_iterate\": mixed_strategies,\n",
    "        \"average_mixed_strategy\": avg_mixed_strategies,\n",
    "        \"frequency_of_play\": frequencies,\n",
    "        \"action_history\": action_history,  # Include the sequence of actions for both players\n",
    "        \"strategy_history\": strategies\n",
    "    }"
   ]
  },
  {
   "cell_type": "code",
   "execution_count": 346,
   "id": "b69958cc-9400-49bc-95fc-c4ccd383721b",
   "metadata": {},
   "outputs": [
    {
     "name": "stdout",
     "output_type": "stream",
     "text": [
      "Last iterate mixed strategies: [array([1.00000000e+00, 1.13103876e-29]), array([1.00000000e+00, 1.32393828e-26])]\n",
      "Average mixed strategies: [[0.88998797 0.11001203]\n",
      " [0.86819147 0.13180853]]\n",
      "Frequency of play: [array([0.8867, 0.1133]), array([0.8671, 0.1329])]\n"
     ]
    }
   ],
   "source": [
    "# Example 2x2 game payoffs (HD game):\n",
    "\"\"\"\n",
    "payoffs = [\n",
    "    [[5, 2], [7, 1]],  # Payoffs for Player 0\n",
    "    [[5, 2], [7, 1]]   # Payoffs for Player 1\n",
    "]\n",
    "\"\"\"\n",
    "\"\"\"\n",
    "# Example 2x2 game payoffs (Coordination game):\n",
    "payoffs = [\n",
    "    [[0, 1], [2, 0]],  # Payoffs for Player 0\n",
    "    [[0, 2], [1, 0]]   # Payoffs for Player 1\n",
    "]\n",
    "\"\"\"\n",
    "# Example 2x2 game payoffs (Prisoner dilemma):\n",
    "payoffs = [\n",
    "    [[2, 0], [5, 0]],  # Payoffs for Player 0\n",
    "    [[2, 0], [5, 0]]   # Payoffs for Player 1\n",
    "]\n",
    "\"\"\"\n",
    "# pick a game at random\n",
    "payoffs = [\n",
    "    [[random.randint(0, 10), random.randint(0, 10)], [random.randint(0, 10), random.randint(0, 10)]],  # Payoffs for Player 0\n",
    "    [[random.randint(0, 10), random.randint(0, 10)], [random.randint(0, 10), random.randint(0, 10)]]   # Payoffs for Player 1\n",
    "]\n",
    "\"\"\"\n",
    "\n",
    "# Parameters\n",
    "T = 10000\n",
    "alpha = 0.3\n",
    "beta = 0.01\n",
    "k = 0.001\n",
    "# gamma = 0.9\n",
    "\n",
    "# Run Q-learning\n",
    "results = q_learning_2x2_game_with_plot(payoffs, T, alpha, beta, k)\n",
    "\n",
    "# Display results\n",
    "print(\"Last iterate mixed strategies:\", results[\"last_iterate\"])\n",
    "print(\"Average mixed strategies:\", results[\"average_mixed_strategy\"])\n",
    "print(\"Frequency of play:\", results[\"frequency_of_play\"])"
   ]
  },
  {
   "cell_type": "code",
   "execution_count": 347,
   "id": "6a98af4e-b282-49da-a8c2-2555ed722668",
   "metadata": {},
   "outputs": [
    {
     "data": {
      "text/plain": [
       "[[[2, 0], [5, 0]], [[2, 0], [5, 0]]]"
      ]
     },
     "execution_count": 347,
     "metadata": {},
     "output_type": "execute_result"
    }
   ],
   "source": [
    "payoffs"
   ]
  },
  {
   "cell_type": "code",
   "execution_count": 348,
   "id": "b939827e-adaf-4f9b-a243-3cb1ca29782b",
   "metadata": {},
   "outputs": [
    {
     "data": {
      "image/png": "[encoded data removed]",
      "text/plain": [
       "<Figure size 800x600 with 2 Axes>"
      ]
     },
     "metadata": {},
     "output_type": "display_data"
    }
   ],
   "source": [
    "# Extract action history\n",
    "action_history_0 = results[\"action_history\"][0]  # Player 0's actions\n",
    "action_history_1 = results[\"action_history\"][1]  # Player 1's actions\n",
    "\n",
    "# Compute the frequency matrix for action profiles [a_0, a_1]\n",
    "num_actions = 2  # Assuming binary actions (0 and 1)\n",
    "frequency_matrix = np.zeros((num_actions, num_actions), dtype=int)\n",
    "\n",
    "# Count occurrences of each action profile\n",
    "for a0, a1 in zip(action_history_0, action_history_1):\n",
    "    frequency_matrix[a0, a1] += 1\n",
    "\n",
    "# Normalize the frequency matrix to get probabilities\n",
    "frequency_matrix_prob = frequency_matrix / np.sum(frequency_matrix)\n",
    "\n",
    "# Plot the normalized frequency matrix as a heatmap\n",
    "plt.figure(figsize=(8, 6))\n",
    "sns.heatmap(\n",
    "    frequency_matrix_prob, \n",
    "    annot=True, \n",
    "    fmt=\".2f\", \n",
    "    cmap=\"Blues\", \n",
    "    xticklabels=[\"Action 0 (P1)\", \"Action 1 (P1)\"],\n",
    "    yticklabels=[\"Action 1 (P0)\", \"Action 0 (P0)\"]\n",
    ")\n",
    "plt.title(\"Normalized Probability of Action Profiles\")\n",
    "plt.xlabel(\"Player 1's Actions\")\n",
    "plt.ylabel(\"Player 0's Actions\")\n",
    "\n",
    "plt.text(\n",
    "    2.5, 0,   # Coordinates for the text box (adjust based on your plot)\n",
    "    r\"$\\alpha = 0.3, \\beta = 0.01, k = 0.001$\", \n",
    "    fontsize=10, \n",
    "    bbox=dict(facecolor='white', edgecolor='black', boxstyle='round,pad=0.5')\n",
    ")\n",
    "\n",
    "plt.tight_layout()\n",
    "\n",
    "plt.savefig(\"/Users/franc/Dropbox/ML project/code/images_fra/frequency_PrisonerDilemma.png\")\n",
    "\n",
    "plt.show()"
   ]
  },
  {
   "cell_type": "code",
   "execution_count": 351,
   "id": "2b3539f9-07f8-4852-bcea-bbef69765ab5",
   "metadata": {},
   "outputs": [
    {
     "data": {
      "image/png": "[encoded data removed]",
      "text/plain": [
       "<Figure size 1000x600 with 1 Axes>"
      ]
     },
     "metadata": {},
     "output_type": "display_data"
    }
   ],
   "source": [
    "strategy_history = results[\"strategy_history\"]\n",
    "\n",
    "player_1_strategy_history = [step[0] for step in strategy_history]\n",
    "player_2_strategy_history = [step[1] for step in strategy_history]\n",
    "\n",
    "# Display the strategy history for Player 1\n",
    "# print(\"Strategy history for Player 1:\")\n",
    "# for t, strategy in enumerate(player_1_strategy_history, start=1):\n",
    "#     print(f\"Step {t}: {strategy}\")\n",
    "\n",
    "prob_action_0_p1 = [strategy[0] for strategy in player_1_strategy_history]\n",
    "prob_action_0_p2 = [strategy[0] for strategy in player_2_strategy_history]\n",
    "\n",
    "# Plot the probabilities over time\n",
    "plt.figure(figsize=(10, 6))\n",
    "plt.plot(prob_action_0_p1, label=\"P1(Action 0)\", color=\"blue\")\n",
    "plt.plot(prob_action_0_p2, label=\"P2(Action 0)\", color=\"orange\")\n",
    "plt.xlabel(\"Time Step\")\n",
    "plt.ylabel(\"Probability\")\n",
    "plt.title(\"Strategy History for P1 and P2\")\n",
    "plt.legend()\n",
    "plt.grid()\n",
    "\n",
    "plt.text(\n",
    "    2, 1.1,   # Coordinates for the text box (adjust based on your plot)\n",
    "    r\"$\\alpha = 0.3, \\beta = 0.01, k = 0.001$\", \n",
    "    fontsize=10, \n",
    "    bbox=dict(facecolor='white', edgecolor='black', boxstyle='round,pad=0.5')\n",
    ")\n",
    "\n",
    "plt.tight_layout()\n",
    "\n",
    "plt.savefig(\"/Users/franc/Dropbox/ML project/code/images_fra/strategy_history_plot_PrisonerDilemma.png\")\n",
    "\n",
    "plt.show()"
   ]
  },
  {
   "cell_type": "code",
   "execution_count": 353,
   "id": "5ecf4216-ff60-4a4c-bc45-df17ef78eb68",
   "metadata": {},
   "outputs": [
    {
     "data": {
      "text/plain": [
       "'\\n- the simple heuristic shows that in HD game players seem to learn to play the welfare maximizing profile\\n- players learn to play action 1. In the long run, it is the welfare maximizing profile\\n\\n- there is not really an issue of equilibrium selection in this specific game\\n- further research is required for more general classes of games, where explicit results are not present in the literature\\n\\n\\n- it is not a NE nor a CE of the stage game\\n- by the folk theorem, can be sustained as a NE of the repeated game\\n'"
      ]
     },
     "execution_count": 353,
     "metadata": {},
     "output_type": "execute_result"
    }
   ],
   "source": [
    "\"\"\"\n",
    "- the simple heuristic shows that in HD game players seem to learn to play the welfare maximizing profile\n",
    "- players learn to play action 1. In the long run, it is the welfare maximizing profile\n",
    "\n",
    "- there is not really an issue of equilibrium selection in this specific game\n",
    "- further research is required for more general classes of games, where explicit results are not present in the literature\n",
    "\n",
    "\n",
    "- it is not a NE nor a CE of the stage game\n",
    "- by the folk theorem, can be sustained as a NE of the repeated game\n",
    "\"\"\""
   ]
  },
  {
   "cell_type": "code",
   "execution_count": 320,
   "id": "7ee2c1b8-c3d4-4592-91a4-f999994d0977",
   "metadata": {},
   "outputs": [
    {
     "data": {
      "text/plain": [
       "'\\n# Map actions to labels for plotting\\naction_labels = [\"0\", \"1\"]\\n\\n# Plot the sequence of play for each player\\nplt.figure(figsize=(10, 6))\\nplt.plot(\\n    results[\"action_history\"][0],\\n    label=\"Player 0\\'s actions\",\\n    alpha=0.7,\\n    marker=\\'o\\',\\n    linestyle=\\'-\\'\\n)\\nplt.plot(\\n    results[\"action_history\"][1],\\n    label=\"Player 1\\'s actions\",\\n    alpha=0.7,\\n    marker=\\'x\\',\\n    linestyle=\\'--\\'\\n)\\nplt.xlabel(\"Time Step\")\\nplt.ylabel(\"Action\")\\nplt.title(\"Sequence of Play Over Time\")\\nplt.yticks([0, 1], action_labels)  # Use \"Cooperate\" and \"Defect\" instead of 0 and 1\\nplt.legend()\\nplt.grid()\\nplt.show()\\n\\n# comment: usually it goes to the NE\\n'"
      ]
     },
     "execution_count": 320,
     "metadata": {},
     "output_type": "execute_result"
    }
   ],
   "source": [
    "\"\"\"\n",
    "# Map actions to labels for plotting\n",
    "action_labels = [\"0\", \"1\"]\n",
    "\n",
    "# Plot the sequence of play for each player\n",
    "plt.figure(figsize=(10, 6))\n",
    "plt.plot(\n",
    "    results[\"action_history\"][0],\n",
    "    label=\"Player 0's actions\",\n",
    "    alpha=0.7,\n",
    "    marker='o',\n",
    "    linestyle='-'\n",
    ")\n",
    "plt.plot(\n",
    "    results[\"action_history\"][1],\n",
    "    label=\"Player 1's actions\",\n",
    "    alpha=0.7,\n",
    "    marker='x',\n",
    "    linestyle='--'\n",
    ")\n",
    "plt.xlabel(\"Time Step\")\n",
    "plt.ylabel(\"Action\")\n",
    "plt.title(\"Sequence of Play Over Time\")\n",
    "plt.yticks([0, 1], action_labels)  # Use \"Cooperate\" and \"Defect\" instead of 0 and 1\n",
    "plt.legend()\n",
    "plt.grid()\n",
    "plt.show()\n",
    "\n",
    "# comment: usually it goes to the NE\n",
    "\"\"\""
   ]
  },
  {
   "cell_type": "code",
   "execution_count": 324,
   "id": "008e37c3-f4ef-4243-a9a4-9c47f42176a7",
   "metadata": {},
   "outputs": [
    {
     "data": {
      "text/plain": [
       "'\\n# Example 2x2 game payoffs (HD game):\\n\\n\\npayoffs = [\\n    [[3, 0], [5, 1]],  # Payoffs for Player 0\\n    [[3, 0], [5, 1]]   # Payoffs for Player 1\\n]\\n\\n# Parameters\\nT = 100\\nalpha = 0.6\\nbeta = 0.7\\n# gamma = 0.9\\n\\n# Run Q-learning\\nresults = q_learning_2x2_game_with_plot(payoffs, T, alpha, beta)\\n\\n# Display results\\nprint(\"Last iterate mixed strategies:\", results[\"last_iterate\"])\\nprint(\"Average mixed strategies:\", results[\"average_mixed_strategy\"])\\nprint(\"Frequency of play:\", results[\"frequency_of_play\"])\\n\\n# Map actions to labels for plotting\\naction_labels = [\"0\", \"1\"]\\n\\n# Plot the sequence of play for each player\\nplt.figure(figsize=(10, 6))\\nplt.plot(\\n    results[\"action_history\"][0],\\n    label=\"Player 0\\'s actions\",\\n    alpha=0.7,\\n    marker=\\'o\\',\\n    linestyle=\\'-\\'\\n)\\nplt.plot(\\n    results[\"action_history\"][1],\\n    label=\"Player 1\\'s actions\",\\n    alpha=0.7,\\n    marker=\\'x\\',\\n    linestyle=\\'--\\'\\n)\\nplt.xlabel(\"Time Step\")\\nplt.ylabel(\"Action\")\\nplt.title(\"Sequence of Play Over Time\")\\nplt.yticks([0, 1], action_labels)  # Use \"Cooperate\" and \"Defect\" instead of 0 and 1\\nplt.legend()\\nplt.grid()\\nplt.show()\\n\\n# comment: usually it goes to the one of the two NE in pure strategies\\n'"
      ]
     },
     "execution_count": 324,
     "metadata": {},
     "output_type": "execute_result"
    }
   ],
   "source": [
    "\"\"\"\n",
    "# Example 2x2 game payoffs (HD game):\n",
    "\n",
    "\n",
    "payoffs = [\n",
    "    [[3, 0], [5, 1]],  # Payoffs for Player 0\n",
    "    [[3, 0], [5, 1]]   # Payoffs for Player 1\n",
    "]\n",
    "\n",
    "# Parameters\n",
    "T = 100\n",
    "alpha = 0.6\n",
    "beta = 0.7\n",
    "# gamma = 0.9\n",
    "\n",
    "# Run Q-learning\n",
    "results = q_learning_2x2_game_with_plot(payoffs, T, alpha, beta)\n",
    "\n",
    "# Display results\n",
    "print(\"Last iterate mixed strategies:\", results[\"last_iterate\"])\n",
    "print(\"Average mixed strategies:\", results[\"average_mixed_strategy\"])\n",
    "print(\"Frequency of play:\", results[\"frequency_of_play\"])\n",
    "\n",
    "# Map actions to labels for plotting\n",
    "action_labels = [\"0\", \"1\"]\n",
    "\n",
    "# Plot the sequence of play for each player\n",
    "plt.figure(figsize=(10, 6))\n",
    "plt.plot(\n",
    "    results[\"action_history\"][0],\n",
    "    label=\"Player 0's actions\",\n",
    "    alpha=0.7,\n",
    "    marker='o',\n",
    "    linestyle='-'\n",
    ")\n",
    "plt.plot(\n",
    "    results[\"action_history\"][1],\n",
    "    label=\"Player 1's actions\",\n",
    "    alpha=0.7,\n",
    "    marker='x',\n",
    "    linestyle='--'\n",
    ")\n",
    "plt.xlabel(\"Time Step\")\n",
    "plt.ylabel(\"Action\")\n",
    "plt.title(\"Sequence of Play Over Time\")\n",
    "plt.yticks([0, 1], action_labels)  # Use \"Cooperate\" and \"Defect\" instead of 0 and 1\n",
    "plt.legend()\n",
    "plt.grid()\n",
    "plt.show()\n",
    "\n",
    "# comment: usually it goes to the one of the two NE in pure strategies\n",
    "\"\"\""
   ]
  },
  {
   "cell_type": "code",
   "execution_count": 163,
   "id": "607be59e-03a6-4494-958c-78f72fea3649",
   "metadata": {},
   "outputs": [
    {
     "data": {
      "text/plain": [
       "'\\nOTHER GAMES\\n--------------\\n\\n# Example 2x2 game payoffs (coordination game):\\npayoffs = [\\n    [[0, 1], [2, 0]],  # Payoffs for Player 0\\n    [[0, 2], [1, 0]]   # Payoffs for Player 1\\n]\\n\\n# Example 2x2 game payoffs (Prisoner dilemma):\\npayoffs = [\\n    [[2, 0], [5, 0]],  # Payoffs for Player 0\\n    [[2, 0], [5, 0]]   # Payoffs for Player 1\\n]\\n\\n# Parameters\\nT = 100\\nalpha = 0.6\\nbeta = 0.7\\n# gamma = 0.9\\n\\n# Run Q-learning\\nresults = q_learning_2x2_game_with_plot(payoffs, T, alpha, beta)\\n\\n# Display results\\nprint(\"Last iterate mixed strategies:\", results[\"last_iterate\"])\\nprint(\"Average mixed strategies:\", results[\"average_mixed_strategy\"])\\nprint(\"Frequency of play:\", results[\"frequency_of_play\"])\\n\\n# Map actions to labels for plotting\\naction_labels = [\"0\", \"1\"]\\n\\n# Plot the sequence of play for each player\\nplt.figure(figsize=(10, 6))\\nplt.plot(\\n    results[\"action_history\"][0],\\n    label=\"Player 0\\'s actions\",\\n    alpha=0.7,\\n    marker=\\'o\\',\\n    linestyle=\\'-\\'\\n)\\nplt.plot(\\n    results[\"action_history\"][1],\\n    label=\"Player 1\\'s actions\",\\n    alpha=0.7,\\n    marker=\\'x\\',\\n    linestyle=\\'--\\'\\n)\\nplt.xlabel(\"Time Step\")\\nplt.ylabel(\"Action\")\\nplt.title(\"Sequence of Play Over Time\")\\nplt.yticks([0, 1], action_labels)  # Use \"Cooperate\" and \"Defect\" instead of 0 and 1\\nplt.legend()\\nplt.grid()\\nplt.show()\\n\\n# comment: learn the best NE\\n'"
      ]
     },
     "execution_count": 163,
     "metadata": {},
     "output_type": "execute_result"
    }
   ],
   "source": [
    "\n",
    "\"\"\"\n",
    "OTHER GAMES\n",
    "--------------\n",
    "\n",
    "# Example 2x2 game payoffs (coordination game):\n",
    "payoffs = [\n",
    "    [[0, 1], [2, 0]],  # Payoffs for Player 0\n",
    "    [[0, 2], [1, 0]]   # Payoffs for Player 1\n",
    "]\n",
    "\n",
    "# Example 2x2 game payoffs (Prisoner dilemma):\n",
    "payoffs = [\n",
    "    [[2, 0], [5, 0]],  # Payoffs for Player 0\n",
    "    [[2, 0], [5, 0]]   # Payoffs for Player 1\n",
    "]\n",
    "\n",
    "# Parameters\n",
    "T = 100\n",
    "alpha = 0.6\n",
    "beta = 0.7\n",
    "# gamma = 0.9\n",
    "\n",
    "# Run Q-learning\n",
    "results = q_learning_2x2_game_with_plot(payoffs, T, alpha, beta)\n",
    "\n",
    "# Display results\n",
    "print(\"Last iterate mixed strategies:\", results[\"last_iterate\"])\n",
    "print(\"Average mixed strategies:\", results[\"average_mixed_strategy\"])\n",
    "print(\"Frequency of play:\", results[\"frequency_of_play\"])\n",
    "\n",
    "# Map actions to labels for plotting\n",
    "action_labels = [\"0\", \"1\"]\n",
    "\n",
    "# Plot the sequence of play for each player\n",
    "plt.figure(figsize=(10, 6))\n",
    "plt.plot(\n",
    "    results[\"action_history\"][0],\n",
    "    label=\"Player 0's actions\",\n",
    "    alpha=0.7,\n",
    "    marker='o',\n",
    "    linestyle='-'\n",
    ")\n",
    "plt.plot(\n",
    "    results[\"action_history\"][1],\n",
    "    label=\"Player 1's actions\",\n",
    "    alpha=0.7,\n",
    "    marker='x',\n",
    "    linestyle='--'\n",
    ")\n",
    "plt.xlabel(\"Time Step\")\n",
    "plt.ylabel(\"Action\")\n",
    "plt.title(\"Sequence of Play Over Time\")\n",
    "plt.yticks([0, 1], action_labels)  # Use \"Cooperate\" and \"Defect\" instead of 0 and 1\n",
    "plt.legend()\n",
    "plt.grid()\n",
    "plt.show()\n",
    "\n",
    "# comment: learn the best NE\n",
    "\"\"\""
   ]
  },
  {
   "cell_type": "code",
   "execution_count": 165,
   "id": "220c327f-93b0-4565-a18e-0339e361fe81",
   "metadata": {},
   "outputs": [
    {
     "data": {
      "text/plain": [
       "'\\n# Example 2x2 game payoffs:\\npayoffs = [\\n    [[0, 2], [1, 1]],  # Payoffs for Player 0\\n    [[1, 1], [0, 2]],   # Payoffs for Player 1\\n]\\n\\n# Parameters\\nT = 100\\nalpha = 0.6\\nbeta = 0.7\\n# gamma = 0.9\\n\\n# Run Q-learning\\nresults = q_learning_2x2_game_with_plot(payoffs, T, alpha, beta)\\n\\n# Display results\\nprint(\"Last iterate mixed strategies:\", results[\"last_iterate\"])\\nprint(\"Average mixed strategies:\", results[\"average_mixed_strategy\"])\\nprint(\"Frequency of play:\", results[\"frequency_of_play\"])\\n\\n# Map actions to labels for plotting\\naction_labels = [\"0\", \"1\"]\\n\\n# Plot the sequence of play for each player\\nplt.figure(figsize=(10, 6))\\nplt.plot(\\n    results[\"action_history\"][0],\\n    label=\"Player 0\\'s actions\",\\n    alpha=0.7,\\n    marker=\\'o\\',\\n    linestyle=\\'-\\'\\n)\\nplt.plot(\\n    results[\"action_history\"][1],\\n    label=\"Player 1\\'s actions\",\\n    alpha=0.7,\\n    marker=\\'x\\',\\n    linestyle=\\'--\\'\\n)\\nplt.xlabel(\"Time Step\")\\nplt.ylabel(\"Action\")\\nplt.title(\"Sequence of Play Over Time\")\\nplt.yticks([0, 1], action_labels)  # Use \"Cooperate\" and \"Defect\" instead of 0 and 1\\nplt.legend()\\nplt.grid()\\nplt.show()\\n\\n# comment: not learn the NE (2/3,2/3)\\n'"
      ]
     },
     "execution_count": 165,
     "metadata": {},
     "output_type": "execute_result"
    }
   ],
   "source": [
    "\"\"\"\n",
    "# Example 2x2 game payoffs:\n",
    "payoffs = [\n",
    "    [[0, 2], [1, 1]],  # Payoffs for Player 0\n",
    "    [[1, 1], [0, 2]],   # Payoffs for Player 1\n",
    "]\n",
    "\n",
    "# Parameters\n",
    "T = 100\n",
    "alpha = 0.6\n",
    "beta = 0.7\n",
    "# gamma = 0.9\n",
    "\n",
    "# Run Q-learning\n",
    "results = q_learning_2x2_game_with_plot(payoffs, T, alpha, beta)\n",
    "\n",
    "# Display results\n",
    "print(\"Last iterate mixed strategies:\", results[\"last_iterate\"])\n",
    "print(\"Average mixed strategies:\", results[\"average_mixed_strategy\"])\n",
    "print(\"Frequency of play:\", results[\"frequency_of_play\"])\n",
    "\n",
    "# Map actions to labels for plotting\n",
    "action_labels = [\"0\", \"1\"]\n",
    "\n",
    "# Plot the sequence of play for each player\n",
    "plt.figure(figsize=(10, 6))\n",
    "plt.plot(\n",
    "    results[\"action_history\"][0],\n",
    "    label=\"Player 0's actions\",\n",
    "    alpha=0.7,\n",
    "    marker='o',\n",
    "    linestyle='-'\n",
    ")\n",
    "plt.plot(\n",
    "    results[\"action_history\"][1],\n",
    "    label=\"Player 1's actions\",\n",
    "    alpha=0.7,\n",
    "    marker='x',\n",
    "    linestyle='--'\n",
    ")\n",
    "plt.xlabel(\"Time Step\")\n",
    "plt.ylabel(\"Action\")\n",
    "plt.title(\"Sequence of Play Over Time\")\n",
    "plt.yticks([0, 1], action_labels)  # Use \"Cooperate\" and \"Defect\" instead of 0 and 1\n",
    "plt.legend()\n",
    "plt.grid()\n",
    "plt.show()\n",
    "\n",
    "# comment: not learn the NE (2/3,2/3)\n",
    "\"\"\""
   ]
  },
  {
   "cell_type": "code",
   "execution_count": null,
   "id": "9778709c-bd86-45f9-a02c-425ad1259f73",
   "metadata": {},
   "outputs": [],
   "source": []
  },
  {
   "cell_type": "code",
   "execution_count": null,
   "id": "61218c2e-dac9-408b-823b-8ac6c94c306a",
   "metadata": {},
   "outputs": [],
   "source": []
  }
 ],
 "metadata": {
  "kernelspec": {
   "display_name": "Python 3 (ipykernel)",
   "language": "python",
   "name": "python3"
  },
  "language_info": {
   "codemirror_mode": {
    "name": "ipython",
    "version": 3
   },
   "file_extension": ".py",
   "mimetype": "text/x-python",
   "name": "python",
   "nbconvert_exporter": "python",
   "pygments_lexer": "ipython3",
   "version": "3.12.7"
  }
 },
 "nbformat": 4,
 "nbformat_minor": 5
}
